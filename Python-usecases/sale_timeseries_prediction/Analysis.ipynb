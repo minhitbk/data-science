{
 "cells": [
  {
   "cell_type": "code",
   "execution_count": null,
   "metadata": {
    "collapsed": true
   },
   "outputs": [],
   "source": [
    "%matplotlib inline\n",
    "\n",
    "import pandas as pd\n",
    "import numpy as np\n",
    "import matplotlib.pyplot as plt\n",
    "from matplotlib import gridspec"
   ]
  },
  {
   "cell_type": "code",
   "execution_count": null,
   "metadata": {
    "collapsed": true
   },
   "outputs": [],
   "source": [
    "# Read data from csv file to pandas dataframe\n",
    "df = pd.read_csv(\"data/training.csv\", header=0)\n",
    "\n",
    "# Transform data into a format that is easier for analysis\n",
    "corr_df = pd.DataFrame({\"Series1\": df[df.serieNames==\"serie_1\"].sales\n",
    "                            .reset_index().drop([\"index\"], axis=1).sales,\n",
    "                        \"Series2\": df[df.serieNames==\"serie_2\"].sales\n",
    "                            .reset_index().drop([\"index\"], axis=1).sales})"
   ]
  },
  {
   "cell_type": "code",
   "execution_count": null,
   "metadata": {
    "collapsed": false
   },
   "outputs": [],
   "source": [
    "# Plot Series1 & Series2\n",
    "fig = plt.figure(figsize=(16, 6))\n",
    "gs = gridspec.GridSpec(1, 2)\n",
    "\n",
    "fig.add_subplot(gs[0, 0:1])\n",
    "plt.title(\"Series1\")\n",
    "plt.xlabel(\"Date\")\n",
    "plt.ylabel(\"Sales\")\n",
    "corr_df[\"Series1\"].plot()\n",
    "\n",
    "fig.add_subplot(gs[0, 1:2])\n",
    "plt.title(\"Series2\")\n",
    "plt.xlabel(\"Date\")\n",
    "plt.ylabel(\"Sales\")\n",
    "corr_df[\"Series2\"].plot()\n",
    "\n",
    "# Plot histogram of Series1 and Series2\n",
    "fig = plt.figure(figsize=(16, 6))\n",
    "\n",
    "fig.add_subplot(gs[0, 0:1])\n",
    "plt.title(\"Series1\")\n",
    "plt.xlabel(\"Sales\")\n",
    "corr_df[\"Series1\"].plot(kind='hist', bins=100)\n",
    "\n",
    "fig.add_subplot(gs[0, 1:2])\n",
    "plt.title(\"Series2\")\n",
    "plt.xlabel(\"Sales\")\n",
    "corr_df[\"Series2\"].plot(kind='hist', bins=100)\n",
    "\n",
    "# ACF function\n",
    "def acorr(x, ax, maxlags):\n",
    "    x = x - x.mean()\n",
    "    autocorr = np.correlate(x, x, mode='full')\n",
    "    autocorr /= autocorr.max()\n",
    "    autocorr = autocorr[x.size: x.size + maxlags]\n",
    "    \n",
    "    return ax.plot(autocorr)\n",
    "\n",
    "# Plot ACF of Series1 and Series2\n",
    "fig, axes = plt.subplots(nrows=1, ncols=2, figsize=(16, 6))\n",
    "axes[0].set_title(\"Series1\")\n",
    "axes[0].set_xlabel(\"Lags\")\n",
    "axes[0].set_ylabel(\"ACF\")\n",
    "axes[0].set_ylim([-0.1, 1])\n",
    "acorr(np.float32(corr_df[\"Series1\"]), axes[0], 200)\n",
    "\n",
    "axes[1].set_title(\"Series2\")\n",
    "axes[1].set_xlabel(\"Lags\")\n",
    "axes[1].set_ylabel(\"ACF\")\n",
    "axes[1].set_ylim([-0.1, 1])\n",
    "acorr(np.float32(corr_df[\"Series2\"]), axes[1], 200)"
   ]
  },
  {
   "cell_type": "code",
   "execution_count": null,
   "metadata": {
    "collapsed": false
   },
   "outputs": [],
   "source": [
    "# Summary statistics of the 2 products\n",
    "df[\"sales\"].groupby(df[\"serieNames\"]).describe()"
   ]
  },
  {
   "cell_type": "code",
   "execution_count": null,
   "metadata": {
    "collapsed": false
   },
   "outputs": [],
   "source": [
    "# Cross-Correlation between the 2 products\n",
    "corr_df.corr()"
   ]
  }
 ],
 "metadata": {
  "kernelspec": {
   "display_name": "Python 2",
   "language": "python",
   "name": "python2"
  },
  "language_info": {
   "codemirror_mode": {
    "name": "ipython",
    "version": 2
   },
   "file_extension": ".py",
   "mimetype": "text/x-python",
   "name": "python",
   "nbconvert_exporter": "python",
   "pygments_lexer": "ipython2",
   "version": "2.7.10"
  }
 },
 "nbformat": 4,
 "nbformat_minor": 0
}
